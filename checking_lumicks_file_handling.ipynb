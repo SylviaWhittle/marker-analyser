{
 "cells": [
  {
   "cell_type": "code",
   "execution_count": null,
   "id": "a7484a01",
   "metadata": {},
   "outputs": [],
   "source": [
    "from pathlib import Path\n",
    "import os\n",
    "from lumicks import pylake\n",
    "import psutil\n",
    "import time, gc"
   ]
  },
  {
   "cell_type": "code",
   "execution_count": null,
   "id": "0e00e766",
   "metadata": {},
   "outputs": [],
   "source": [
    "filepath = \"/Users/sylvi/optical_data/loading_markers/data/loading_garbage_collect_test.h5\""
   ]
  },
  {
   "cell_type": "code",
   "execution_count": null,
   "id": "af5f9784",
   "metadata": {},
   "outputs": [],
   "source": [
    "# run this cell then run `lsof | grep loading_markers/data/loading_garbage_collect_test.h5` in\n",
    "# the terminal to see if the file handle is released after garbage collection\n",
    "file = pylake.File(filepath)\n",
    "print(\"Opened. PID:\", os.getpid() if 'os' in globals() else __import__('os').getpid())\n",
    "input(\"run lsof to see if the file is open, then press enter\")\n",
    "del file\n",
    "gc.collect()\n",
    "input(\"press enter again and run lsof again to see if the file is closed\")"
   ]
  },
  {
   "cell_type": "code",
   "execution_count": null,
   "id": "a00b3926",
   "metadata": {},
   "outputs": [],
   "source": [
    "proc = psutil.Process()\n",
    "before = {f.path for f in proc.open_files()}\n",
    "pl = pylake.File(filepath)\n",
    "pl.h5.close()\n",
    "mid = {f.path for f in proc.open_files()}\n",
    "opened = mid - before\n",
    "print(\"newly opened files:\", opened)\n",
    "del pl\n",
    "gc.collect()\n",
    "after = {f.path for f in proc.open_files()}\n",
    "remaining = after & opened\n",
    "print(\"still open after gc:\", remaining)"
   ]
  }
 ],
 "metadata": {
  "kernelspec": {
   "display_name": "marker-analyser",
   "language": "python",
   "name": "python3"
  },
  "language_info": {
   "codemirror_mode": {
    "name": "ipython",
    "version": 3
   },
   "file_extension": ".py",
   "mimetype": "text/x-python",
   "name": "python",
   "nbconvert_exporter": "python",
   "pygments_lexer": "ipython3",
   "version": "3.12.5"
  }
 },
 "nbformat": 4,
 "nbformat_minor": 5
}
